{
  "nbformat": 4,
  "nbformat_minor": 0,
  "metadata": {
    "colab": {
      "provenance": []
    },
    "kernelspec": {
      "name": "python3",
      "display_name": "Python 3"
    },
    "language_info": {
      "name": "python"
    }
  },
  "cells": [
    {
      "cell_type": "code",
      "source": [
        "import numpy as np\n",
        "import matplotlib.pyplot as plt"
      ],
      "metadata": {
        "id": "9Q7BafR1V-GP"
      },
      "execution_count": null,
      "outputs": []
    },
    {
      "cell_type": "code",
      "execution_count": null,
      "metadata": {
        "id": "2Ma_YkjxVjcK"
      },
      "outputs": [],
      "source": [
        "def relu(x):\n",
        "  return np.maximum(0,x)"
      ]
    },
    {
      "cell_type": "code",
      "source": [
        "x = np.linspace(10,-10,100)"
      ],
      "metadata": {
        "id": "QRI-kI0PWSTu"
      },
      "execution_count": null,
      "outputs": []
    },
    {
      "cell_type": "code",
      "source": [
        "plt.plot(x, relu(x))"
      ],
      "metadata": {
        "colab": {
          "base_uri": "https://localhost:8080/",
          "height": 282
        },
        "id": "V7lXT4VgWe2U",
        "outputId": "5cce7881-e4e4-455e-a75b-e0a83d35baed"
      },
      "execution_count": null,
      "outputs": [
        {
          "output_type": "execute_result",
          "data": {
            "text/plain": [
              "[<matplotlib.lines.Line2D at 0x7f3c6e19e340>]"
            ]
          },
          "metadata": {},
          "execution_count": 37
        },
        {
          "output_type": "display_data",
          "data": {
            "text/plain": [
              "<Figure size 432x288 with 1 Axes>"
            ],
            "image/png": "[encoded data removed]"
          },
          "metadata": {
            "needs_background": "light"
          }
        }
      ]
    },
    {
      "cell_type": "code",
      "source": [
        "def mse(y,y_hat, derivate=False):\n",
        "  if derivate:\n",
        "      return (y_hat-y)\n",
        "  else:\n",
        "      return np.mean((y_hat - y)**2)"
      ],
      "metadata": {
        "id": "zC0qYBdMZibW"
      },
      "execution_count": null,
      "outputs": []
    },
    {
      "cell_type": "code",
      "source": [
        "real = np.array([0,0,1,1])\n",
        "prediction = np.array([0.9,0.5,0.2,0.0])"
      ],
      "metadata": {
        "id": "vnZN9_W-f357"
      },
      "execution_count": null,
      "outputs": []
    },
    {
      "cell_type": "code",
      "source": [
        "mse(real, prediction)"
      ],
      "metadata": {
        "colab": {
          "base_uri": "https://localhost:8080/"
        },
        "id": "9kqLR8YXgOVo",
        "outputId": "10c9f384-9b2f-466b-e59a-732c90f38b58"
      },
      "execution_count": null,
      "outputs": [
        {
          "output_type": "execute_result",
          "data": {
            "text/plain": [
              "0.675"
            ]
          },
          "metadata": {},
          "execution_count": 43
        }
      ]
    }
  ]
}